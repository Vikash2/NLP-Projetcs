{
 "cells": [
  {
   "cell_type": "code",
   "execution_count": 1,
   "metadata": {},
   "outputs": [],
   "source": [
    "#importing the packages\n",
    "import spacy\n",
    "import pandas as pd\n",
    "from sklearn.feature_extraction.text import TfidfVectorizer\n",
    "from sklearn.pipeline import Pipeline\n",
    "from sklearn.model_selection import train_test_split\n",
    "from sklearn.metrics import classification_report\n",
    "from sklearn.svm import LinearSVC\n",
    "nlp = spacy.load('en_core_web_sm')"
   ]
  },
  {
   "cell_type": "code",
   "execution_count": 2,
   "metadata": {},
   "outputs": [],
   "source": [
    "#reading the data\n",
    "data_yelp = pd.read_csv('datasets/yelp_labelled.txt',sep=\"\\t\",header=None)\n",
    "column_name=['Review','Sentiment']\n",
    "data_yelp.columns = column_name\n",
    "data_amazon = pd.read_csv('datasets/amazon_cells_labelled.txt',sep=\"\\t\",header=None)\n",
    "data_amazon.columns = column_name\n",
    "data_imdb = pd.read_csv('datasets/imdb_labelled.txt',sep='\\t',header=None)\n",
    "data_imdb.columns = column_name"
   ]
  },
  {
   "cell_type": "code",
   "execution_count": 3,
   "metadata": {},
   "outputs": [],
   "source": [
    "#Merging all the data \n",
    "data = data_yelp.append([data_amazon,data_imdb])\n"
   ]
  },
  {
   "cell_type": "code",
   "execution_count": 4,
   "metadata": {},
   "outputs": [],
   "source": [
    "#Getting stopwords and punctuation list\n",
    "from spacy.lang.en.stop_words import STOP_WORDS\n",
    "import string\n",
    "stopwords = list(STOP_WORDS)\n",
    "punctuation = string.punctuation"
   ]
  },
  {
   "cell_type": "code",
   "execution_count": 5,
   "metadata": {},
   "outputs": [],
   "source": [
    "# function for text cleaning\n",
    "def text_data_cleaning(sentence):\n",
    "    doc = nlp(sentence)\n",
    "    tokens=[]\n",
    "    for token in doc:\n",
    "        if token.lemma_ !=\"-PRON-\":\n",
    "            temp = token.lemma_.lower().strip()\n",
    "        else:\n",
    "            temp = token.lower_\n",
    "        tokens.append(temp)\n",
    "    cleared_token = []\n",
    "    for token in tokens:\n",
    "        if token not in stopwords and token not in punctuation:\n",
    "            cleared_token.append(token)\n",
    "    return cleared_token"
   ]
  },
  {
   "cell_type": "code",
   "execution_count": 6,
   "metadata": {},
   "outputs": [],
   "source": [
    "#Inititalising tfidf and classifier variable\n",
    "tfidf = TfidfVectorizer(tokenizer=text_data_cleaning)\n",
    "classifer = LinearSVC()"
   ]
  },
  {
   "cell_type": "code",
   "execution_count": 7,
   "metadata": {},
   "outputs": [],
   "source": [
    "#Splitting the data into trainnig and testing data\n",
    "X= data['Review']\n",
    "y= data['Sentiment']\n",
    "X_train,X_test,y_train,y_test = train_test_split(X,y,test_size=0.2,random_state=4)\n",
    "# X_train.shape,X_test.shape"
   ]
  },
  {
   "cell_type": "code",
   "execution_count": 8,
   "metadata": {},
   "outputs": [],
   "source": [
    "# Applying pipelining\n",
    "clf = Pipeline([('tfidf',tfidf),('clf',classifer)])"
   ]
  },
  {
   "cell_type": "code",
   "execution_count": 9,
   "metadata": {},
   "outputs": [
    {
     "data": {
      "text/plain": [
       "Pipeline(memory=None,\n",
       "     steps=[('tfidf', TfidfVectorizer(analyzer='word', binary=False, decode_error='strict',\n",
       "        dtype=<class 'numpy.float64'>, encoding='utf-8', input='content',\n",
       "        lowercase=True, max_df=1.0, max_features=None, min_df=1,\n",
       "        ngram_range=(1, 1), norm='l2', preprocessor=None, smooth_idf=True,...ax_iter=1000,\n",
       "     multi_class='ovr', penalty='l2', random_state=None, tol=0.0001,\n",
       "     verbose=0))])"
      ]
     },
     "execution_count": 9,
     "metadata": {},
     "output_type": "execute_result"
    }
   ],
   "source": [
    "#Fitting the model\n",
    "clf.fit(X_train,y_train)"
   ]
  },
  {
   "cell_type": "code",
   "execution_count": 10,
   "metadata": {},
   "outputs": [],
   "source": [
    "#predicting the result for the testing dataset\n",
    "y_pred = clf.predict(X_test)"
   ]
  },
  {
   "cell_type": "code",
   "execution_count": 11,
   "metadata": {
    "scrolled": true
   },
   "outputs": [
    {
     "name": "stdout",
     "output_type": "stream",
     "text": [
      "              precision    recall  f1-score   support\n",
      "\n",
      "           0       0.77      0.77      0.77       267\n",
      "           1       0.78      0.78      0.78       283\n",
      "\n",
      "   micro avg       0.78      0.78      0.78       550\n",
      "   macro avg       0.78      0.78      0.78       550\n",
      "weighted avg       0.78      0.78      0.78       550\n",
      "\n"
     ]
    }
   ],
   "source": [
    "#printing the classification report test data vs predictted data  \n",
    "print(classification_report(y_test,y_pred))"
   ]
  },
  {
   "cell_type": "code",
   "execution_count": 12,
   "metadata": {},
   "outputs": [
    {
     "name": "stdout",
     "output_type": "stream",
     "text": [
      "Enter movie review:I will give 100/100 rating to 'Dil Bechara' movie❤️ 'Dil Bechara' The best movie I have ever seen. I watched this movie only because of Sushant❤️. Sushant❤️ character in dil bechara is almost similar to himself. Superb story, Superior acting sushant acting is as like as he lived his own character ,climax is so emotional... Everyone should watch this movie.\n",
      "\n",
      "Review is positive.\n"
     ]
    }
   ],
   "source": [
    "text = input(\"Enter movie review:\")\n",
    "temp = clf.predict([text])\n",
    "if temp[0] == 0:\n",
    "    print(\"\\nReview is negative.\")\n",
    "    \n",
    "else:\n",
    "    print(\"\\nReview is positive.\")"
   ]
  },
  {
   "cell_type": "code",
   "execution_count": null,
   "metadata": {},
   "outputs": [],
   "source": []
  }
 ],
 "metadata": {
  "kernelspec": {
   "display_name": "Python 3",
   "language": "python",
   "name": "python3"
  },
  "language_info": {
   "codemirror_mode": {
    "name": "ipython",
    "version": 3
   },
   "file_extension": ".py",
   "mimetype": "text/x-python",
   "name": "python",
   "nbconvert_exporter": "python",
   "pygments_lexer": "ipython3",
   "version": "3.6.8"
  }
 },
 "nbformat": 4,
 "nbformat_minor": 2
}
